{
 "cells": [
  {
   "cell_type": "markdown",
   "metadata": {},
   "source": [
    "# ECO225 Project 1: What is effect of the COVID-19 Pandemic on the 2020 US Presidential Election?"
   ]
  },
  {
   "cell_type": "markdown",
   "metadata": {},
   "source": [
    "## Introduction"
   ]
  },
  {
   "cell_type": "markdown",
   "metadata": {},
   "source": [
    "The United States Presidential election in 2020 has been called the most consequential in a lifetime. In the highest voter turnout ever recorded (in terms of the raw number of voters), former Vice President Joe Biden defeated the incumbent President Donald Trump. Among the many controversies of the Trump presidency, Trump's critics often cite his administration's handling of the COVID-19 pandemic as the key fatal flaw that defines his years in office. There is a hotly contested debate among political scholars and pundits as to whether or not the COVID-19 pandemic was what ultimately gave Biden the edge over Trump.\n",
    "\n",
    "This project seeks to answer the question: what is the effect of the COVID-19 pandemic on the outcome of the 2020 US Presidential election?  To begin this analysis, I provide summary statistics and offer comments on a few key variables of interest. My dependent variable is the proportion of votes that Joe Biden received in the 2020 election within each county of the US.  The independent variables that I will look at most closely in this submission are the number of COVID-19 fatalities in each county (prior to November 1, 2020 – two days before the election), the total population of each county, and the proportion of votes that Hillary Clinton received in the 2016 election within each county.  In subsequent projects, I will expand on the number of variables studied in order to strengthen my analysis. \n",
    "\n",
    "The data I use for this project was assembled by Ethan Schacht in 2020; the dataset is called \"Election, COVID, and Demographic Data by County\".  It provides county statistics for COVID-19 case and death counts, demographic and socioeconomic attributes, and election data for both the 2016 and 2020 Presedential elections.\n"
   ]
  },
  {
   "cell_type": "markdown",
   "metadata": {},
   "source": [
    "## Summary Statistics"
   ]
  },
  {
   "cell_type": "code",
   "execution_count": 124,
   "metadata": {},
   "outputs": [],
   "source": [
    "# import the python packages used in the analysis\n",
    "import numpy as num\n",
    "import pandas as pd\n",
    "import matplotlib.pyplot as plt"
   ]
  },
  {
   "cell_type": "markdown",
   "metadata": {},
   "source": [
    "Here, I read the data on Jupyter, and display it as a Data Frame before beginning my analysis and provision of summary statistics/figures."
   ]
  },
  {
   "cell_type": "code",
   "execution_count": 125,
   "metadata": {},
   "outputs": [],
   "source": [
    "df = pd.read_csv(\"county_statistics.csv\") # read data"
   ]
  },
  {
   "cell_type": "code",
   "execution_count": 126,
   "metadata": {},
   "outputs": [
    {
     "data": {
      "text/html": [
       "<div>\n",
       "<style scoped>\n",
       "    .dataframe tbody tr th:only-of-type {\n",
       "        vertical-align: middle;\n",
       "    }\n",
       "\n",
       "    .dataframe tbody tr th {\n",
       "        vertical-align: top;\n",
       "    }\n",
       "\n",
       "    .dataframe thead th {\n",
       "        text-align: right;\n",
       "    }\n",
       "</style>\n",
       "<table border=\"1\" class=\"dataframe\">\n",
       "  <thead>\n",
       "    <tr style=\"text-align: right;\">\n",
       "      <th></th>\n",
       "      <th>Unnamed: 0</th>\n",
       "      <th>county</th>\n",
       "      <th>state</th>\n",
       "      <th>percentage16_Donald_Trump</th>\n",
       "      <th>percentage16_Hillary_Clinton</th>\n",
       "      <th>total_votes16</th>\n",
       "      <th>votes16_Donald_Trump</th>\n",
       "      <th>votes16_Hillary_Clinton</th>\n",
       "      <th>percentage20_Donald_Trump</th>\n",
       "      <th>percentage20_Joe_Biden</th>\n",
       "      <th>...</th>\n",
       "      <th>Walk</th>\n",
       "      <th>OtherTransp</th>\n",
       "      <th>WorkAtHome</th>\n",
       "      <th>MeanCommute</th>\n",
       "      <th>Employed</th>\n",
       "      <th>PrivateWork</th>\n",
       "      <th>PublicWork</th>\n",
       "      <th>SelfEmployed</th>\n",
       "      <th>FamilyWork</th>\n",
       "      <th>Unemployment</th>\n",
       "    </tr>\n",
       "  </thead>\n",
       "  <tbody>\n",
       "    <tr>\n",
       "      <th>0</th>\n",
       "      <td>0</td>\n",
       "      <td>Abbeville</td>\n",
       "      <td>SC</td>\n",
       "      <td>0.629</td>\n",
       "      <td>0.346</td>\n",
       "      <td>10724.0</td>\n",
       "      <td>6742.0</td>\n",
       "      <td>3712.0</td>\n",
       "      <td>0.661</td>\n",
       "      <td>0.330</td>\n",
       "      <td>...</td>\n",
       "      <td>1.8</td>\n",
       "      <td>1.8</td>\n",
       "      <td>6.5</td>\n",
       "      <td>25.8</td>\n",
       "      <td>9505.0</td>\n",
       "      <td>78.8</td>\n",
       "      <td>13.3</td>\n",
       "      <td>7.8</td>\n",
       "      <td>0.1</td>\n",
       "      <td>9.4</td>\n",
       "    </tr>\n",
       "    <tr>\n",
       "      <th>1</th>\n",
       "      <td>1</td>\n",
       "      <td>Acadia</td>\n",
       "      <td>LA</td>\n",
       "      <td>0.773</td>\n",
       "      <td>0.206</td>\n",
       "      <td>27386.0</td>\n",
       "      <td>21159.0</td>\n",
       "      <td>5638.0</td>\n",
       "      <td>0.795</td>\n",
       "      <td>0.191</td>\n",
       "      <td>...</td>\n",
       "      <td>1.6</td>\n",
       "      <td>2.2</td>\n",
       "      <td>2.5</td>\n",
       "      <td>27.6</td>\n",
       "      <td>24982.0</td>\n",
       "      <td>80.0</td>\n",
       "      <td>12.1</td>\n",
       "      <td>7.6</td>\n",
       "      <td>0.3</td>\n",
       "      <td>8.9</td>\n",
       "    </tr>\n",
       "    <tr>\n",
       "      <th>2</th>\n",
       "      <td>2</td>\n",
       "      <td>Accomack</td>\n",
       "      <td>VA</td>\n",
       "      <td>0.545</td>\n",
       "      <td>0.428</td>\n",
       "      <td>15755.0</td>\n",
       "      <td>8582.0</td>\n",
       "      <td>6737.0</td>\n",
       "      <td>0.542</td>\n",
       "      <td>0.447</td>\n",
       "      <td>...</td>\n",
       "      <td>2.6</td>\n",
       "      <td>1.8</td>\n",
       "      <td>4.5</td>\n",
       "      <td>22.0</td>\n",
       "      <td>13837.0</td>\n",
       "      <td>74.6</td>\n",
       "      <td>18.1</td>\n",
       "      <td>7.1</td>\n",
       "      <td>0.2</td>\n",
       "      <td>5.4</td>\n",
       "    </tr>\n",
       "    <tr>\n",
       "      <th>3</th>\n",
       "      <td>3</td>\n",
       "      <td>Ada</td>\n",
       "      <td>ID</td>\n",
       "      <td>0.479</td>\n",
       "      <td>0.387</td>\n",
       "      <td>195587.0</td>\n",
       "      <td>93748.0</td>\n",
       "      <td>75676.0</td>\n",
       "      <td>0.504</td>\n",
       "      <td>0.465</td>\n",
       "      <td>...</td>\n",
       "      <td>1.5</td>\n",
       "      <td>2.8</td>\n",
       "      <td>6.9</td>\n",
       "      <td>20.4</td>\n",
       "      <td>214984.0</td>\n",
       "      <td>78.3</td>\n",
       "      <td>15.0</td>\n",
       "      <td>6.6</td>\n",
       "      <td>0.1</td>\n",
       "      <td>4.3</td>\n",
       "    </tr>\n",
       "    <tr>\n",
       "      <th>4</th>\n",
       "      <td>4</td>\n",
       "      <td>Adair</td>\n",
       "      <td>IA</td>\n",
       "      <td>0.653</td>\n",
       "      <td>0.300</td>\n",
       "      <td>3759.0</td>\n",
       "      <td>2456.0</td>\n",
       "      <td>1127.0</td>\n",
       "      <td>0.697</td>\n",
       "      <td>0.286</td>\n",
       "      <td>...</td>\n",
       "      <td>2.8</td>\n",
       "      <td>0.4</td>\n",
       "      <td>6.2</td>\n",
       "      <td>22.3</td>\n",
       "      <td>3680.0</td>\n",
       "      <td>73.8</td>\n",
       "      <td>15.3</td>\n",
       "      <td>10.4</td>\n",
       "      <td>0.5</td>\n",
       "      <td>3.0</td>\n",
       "    </tr>\n",
       "  </tbody>\n",
       "</table>\n",
       "<p>5 rows × 51 columns</p>\n",
       "</div>"
      ],
      "text/plain": [
       "   Unnamed: 0     county state  percentage16_Donald_Trump  \\\n",
       "0           0  Abbeville    SC                      0.629   \n",
       "1           1     Acadia    LA                      0.773   \n",
       "2           2   Accomack    VA                      0.545   \n",
       "3           3        Ada    ID                      0.479   \n",
       "4           4      Adair    IA                      0.653   \n",
       "\n",
       "   percentage16_Hillary_Clinton  total_votes16  votes16_Donald_Trump  \\\n",
       "0                         0.346        10724.0                6742.0   \n",
       "1                         0.206        27386.0               21159.0   \n",
       "2                         0.428        15755.0                8582.0   \n",
       "3                         0.387       195587.0               93748.0   \n",
       "4                         0.300         3759.0                2456.0   \n",
       "\n",
       "   votes16_Hillary_Clinton  percentage20_Donald_Trump  percentage20_Joe_Biden  \\\n",
       "0                   3712.0                      0.661                   0.330   \n",
       "1                   5638.0                      0.795                   0.191   \n",
       "2                   6737.0                      0.542                   0.447   \n",
       "3                  75676.0                      0.504                   0.465   \n",
       "4                   1127.0                      0.697                   0.286   \n",
       "\n",
       "   ...  Walk  OtherTransp  WorkAtHome  MeanCommute  Employed  PrivateWork  \\\n",
       "0  ...   1.8          1.8         6.5         25.8    9505.0         78.8   \n",
       "1  ...   1.6          2.2         2.5         27.6   24982.0         80.0   \n",
       "2  ...   2.6          1.8         4.5         22.0   13837.0         74.6   \n",
       "3  ...   1.5          2.8         6.9         20.4  214984.0         78.3   \n",
       "4  ...   2.8          0.4         6.2         22.3    3680.0         73.8   \n",
       "\n",
       "   PublicWork  SelfEmployed  FamilyWork  Unemployment  \n",
       "0        13.3           7.8         0.1           9.4  \n",
       "1        12.1           7.6         0.3           8.9  \n",
       "2        18.1           7.1         0.2           5.4  \n",
       "3        15.0           6.6         0.1           4.3  \n",
       "4        15.3          10.4         0.5           3.0  \n",
       "\n",
       "[5 rows x 51 columns]"
      ]
     },
     "execution_count": 126,
     "metadata": {},
     "output_type": "execute_result"
    }
   ],
   "source": [
    "df.head() # explore the data, variable names"
   ]
  },
  {
   "cell_type": "code",
   "execution_count": 127,
   "metadata": {},
   "outputs": [],
   "source": [
    "df = df.drop([\"Unnamed: 0\"],axis = 1) # drop unwanted column\n",
    "df = df.drop_duplicates() # drop duplicate values to clean data"
   ]
  },
  {
   "cell_type": "code",
   "execution_count": 128,
   "metadata": {},
   "outputs": [
    {
     "data": {
      "text/html": [
       "<div>\n",
       "<style scoped>\n",
       "    .dataframe tbody tr th:only-of-type {\n",
       "        vertical-align: middle;\n",
       "    }\n",
       "\n",
       "    .dataframe tbody tr th {\n",
       "        vertical-align: top;\n",
       "    }\n",
       "\n",
       "    .dataframe thead th {\n",
       "        text-align: right;\n",
       "    }\n",
       "</style>\n",
       "<table border=\"1\" class=\"dataframe\">\n",
       "  <thead>\n",
       "    <tr style=\"text-align: right;\">\n",
       "      <th></th>\n",
       "      <th>county</th>\n",
       "      <th>state</th>\n",
       "      <th>percentage16_Donald_Trump</th>\n",
       "      <th>percentage16_Hillary_Clinton</th>\n",
       "      <th>total_votes16</th>\n",
       "      <th>votes16_Donald_Trump</th>\n",
       "      <th>votes16_Hillary_Clinton</th>\n",
       "      <th>percentage20_Donald_Trump</th>\n",
       "      <th>percentage20_Joe_Biden</th>\n",
       "      <th>total_votes20</th>\n",
       "      <th>...</th>\n",
       "      <th>Walk</th>\n",
       "      <th>OtherTransp</th>\n",
       "      <th>WorkAtHome</th>\n",
       "      <th>MeanCommute</th>\n",
       "      <th>Employed</th>\n",
       "      <th>PrivateWork</th>\n",
       "      <th>PublicWork</th>\n",
       "      <th>SelfEmployed</th>\n",
       "      <th>FamilyWork</th>\n",
       "      <th>Unemployment</th>\n",
       "    </tr>\n",
       "  </thead>\n",
       "  <tbody>\n",
       "    <tr>\n",
       "      <th>0</th>\n",
       "      <td>Abbeville</td>\n",
       "      <td>SC</td>\n",
       "      <td>0.629</td>\n",
       "      <td>0.346</td>\n",
       "      <td>10724.0</td>\n",
       "      <td>6742.0</td>\n",
       "      <td>3712.0</td>\n",
       "      <td>0.661</td>\n",
       "      <td>0.330</td>\n",
       "      <td>12433.0</td>\n",
       "      <td>...</td>\n",
       "      <td>1.8</td>\n",
       "      <td>1.8</td>\n",
       "      <td>6.5</td>\n",
       "      <td>25.8</td>\n",
       "      <td>9505.0</td>\n",
       "      <td>78.8</td>\n",
       "      <td>13.3</td>\n",
       "      <td>7.8</td>\n",
       "      <td>0.1</td>\n",
       "      <td>9.4</td>\n",
       "    </tr>\n",
       "    <tr>\n",
       "      <th>1</th>\n",
       "      <td>Acadia</td>\n",
       "      <td>LA</td>\n",
       "      <td>0.773</td>\n",
       "      <td>0.206</td>\n",
       "      <td>27386.0</td>\n",
       "      <td>21159.0</td>\n",
       "      <td>5638.0</td>\n",
       "      <td>0.795</td>\n",
       "      <td>0.191</td>\n",
       "      <td>28425.0</td>\n",
       "      <td>...</td>\n",
       "      <td>1.6</td>\n",
       "      <td>2.2</td>\n",
       "      <td>2.5</td>\n",
       "      <td>27.6</td>\n",
       "      <td>24982.0</td>\n",
       "      <td>80.0</td>\n",
       "      <td>12.1</td>\n",
       "      <td>7.6</td>\n",
       "      <td>0.3</td>\n",
       "      <td>8.9</td>\n",
       "    </tr>\n",
       "    <tr>\n",
       "      <th>2</th>\n",
       "      <td>Accomack</td>\n",
       "      <td>VA</td>\n",
       "      <td>0.545</td>\n",
       "      <td>0.428</td>\n",
       "      <td>15755.0</td>\n",
       "      <td>8582.0</td>\n",
       "      <td>6737.0</td>\n",
       "      <td>0.542</td>\n",
       "      <td>0.447</td>\n",
       "      <td>16938.0</td>\n",
       "      <td>...</td>\n",
       "      <td>2.6</td>\n",
       "      <td>1.8</td>\n",
       "      <td>4.5</td>\n",
       "      <td>22.0</td>\n",
       "      <td>13837.0</td>\n",
       "      <td>74.6</td>\n",
       "      <td>18.1</td>\n",
       "      <td>7.1</td>\n",
       "      <td>0.2</td>\n",
       "      <td>5.4</td>\n",
       "    </tr>\n",
       "    <tr>\n",
       "      <th>3</th>\n",
       "      <td>Ada</td>\n",
       "      <td>ID</td>\n",
       "      <td>0.479</td>\n",
       "      <td>0.387</td>\n",
       "      <td>195587.0</td>\n",
       "      <td>93748.0</td>\n",
       "      <td>75676.0</td>\n",
       "      <td>0.504</td>\n",
       "      <td>0.465</td>\n",
       "      <td>259389.0</td>\n",
       "      <td>...</td>\n",
       "      <td>1.5</td>\n",
       "      <td>2.8</td>\n",
       "      <td>6.9</td>\n",
       "      <td>20.4</td>\n",
       "      <td>214984.0</td>\n",
       "      <td>78.3</td>\n",
       "      <td>15.0</td>\n",
       "      <td>6.6</td>\n",
       "      <td>0.1</td>\n",
       "      <td>4.3</td>\n",
       "    </tr>\n",
       "    <tr>\n",
       "      <th>4</th>\n",
       "      <td>Adair</td>\n",
       "      <td>IA</td>\n",
       "      <td>0.653</td>\n",
       "      <td>0.300</td>\n",
       "      <td>3759.0</td>\n",
       "      <td>2456.0</td>\n",
       "      <td>1127.0</td>\n",
       "      <td>0.697</td>\n",
       "      <td>0.286</td>\n",
       "      <td>4183.0</td>\n",
       "      <td>...</td>\n",
       "      <td>2.8</td>\n",
       "      <td>0.4</td>\n",
       "      <td>6.2</td>\n",
       "      <td>22.3</td>\n",
       "      <td>3680.0</td>\n",
       "      <td>73.8</td>\n",
       "      <td>15.3</td>\n",
       "      <td>10.4</td>\n",
       "      <td>0.5</td>\n",
       "      <td>3.0</td>\n",
       "    </tr>\n",
       "  </tbody>\n",
       "</table>\n",
       "<p>5 rows × 50 columns</p>\n",
       "</div>"
      ],
      "text/plain": [
       "      county state  percentage16_Donald_Trump  percentage16_Hillary_Clinton  \\\n",
       "0  Abbeville    SC                      0.629                         0.346   \n",
       "1     Acadia    LA                      0.773                         0.206   \n",
       "2   Accomack    VA                      0.545                         0.428   \n",
       "3        Ada    ID                      0.479                         0.387   \n",
       "4      Adair    IA                      0.653                         0.300   \n",
       "\n",
       "   total_votes16  votes16_Donald_Trump  votes16_Hillary_Clinton  \\\n",
       "0        10724.0                6742.0                   3712.0   \n",
       "1        27386.0               21159.0                   5638.0   \n",
       "2        15755.0                8582.0                   6737.0   \n",
       "3       195587.0               93748.0                  75676.0   \n",
       "4         3759.0                2456.0                   1127.0   \n",
       "\n",
       "   percentage20_Donald_Trump  percentage20_Joe_Biden  total_votes20  ...  \\\n",
       "0                      0.661                   0.330        12433.0  ...   \n",
       "1                      0.795                   0.191        28425.0  ...   \n",
       "2                      0.542                   0.447        16938.0  ...   \n",
       "3                      0.504                   0.465       259389.0  ...   \n",
       "4                      0.697                   0.286         4183.0  ...   \n",
       "\n",
       "   Walk  OtherTransp  WorkAtHome  MeanCommute  Employed  PrivateWork  \\\n",
       "0   1.8          1.8         6.5         25.8    9505.0         78.8   \n",
       "1   1.6          2.2         2.5         27.6   24982.0         80.0   \n",
       "2   2.6          1.8         4.5         22.0   13837.0         74.6   \n",
       "3   1.5          2.8         6.9         20.4  214984.0         78.3   \n",
       "4   2.8          0.4         6.2         22.3    3680.0         73.8   \n",
       "\n",
       "   PublicWork  SelfEmployed  FamilyWork  Unemployment  \n",
       "0        13.3           7.8         0.1           9.4  \n",
       "1        12.1           7.6         0.3           8.9  \n",
       "2        18.1           7.1         0.2           5.4  \n",
       "3        15.0           6.6         0.1           4.3  \n",
       "4        15.3          10.4         0.5           3.0  \n",
       "\n",
       "[5 rows x 50 columns]"
      ]
     },
     "execution_count": 128,
     "metadata": {},
     "output_type": "execute_result"
    }
   ],
   "source": [
    "df.head() # confirm that unwanted column has been removed"
   ]
  },
  {
   "cell_type": "markdown",
   "metadata": {},
   "source": [
    "#### Assign variable names to access data frame columns more easily "
   ]
  },
  {
   "cell_type": "code",
   "execution_count": 129,
   "metadata": {},
   "outputs": [],
   "source": [
    "p_biden = df[\"percentage20_Joe_Biden\"]\n",
    "p_clinton = df[\"percentage16_Hillary_Clinton\"]\n",
    "cov_deaths = df[\"deaths\"]\n",
    "cov_cases = df[\"cases\"]\n",
    "population = df[\"TotalPop\"]"
   ]
  },
  {
   "cell_type": "markdown",
   "metadata": {},
   "source": [
    "#### Describe basic summary statistics for the variables under analysis"
   ]
  },
  {
   "cell_type": "code",
   "execution_count": 130,
   "metadata": {},
   "outputs": [
    {
     "data": {
      "text/plain": [
       "count    4490.000000\n",
       "mean        0.394531\n",
       "std         0.180909\n",
       "min         0.031000\n",
       "25%         0.245000\n",
       "50%         0.376000\n",
       "75%         0.524000\n",
       "max         1.000000\n",
       "Name: percentage20_Joe_Biden, dtype: float64"
      ]
     },
     "execution_count": 130,
     "metadata": {},
     "output_type": "execute_result"
    }
   ],
   "source": [
    "p_biden.describe() # basic summary stats for Biden 2020 proportion of vote by county"
   ]
  },
  {
   "cell_type": "code",
   "execution_count": 131,
   "metadata": {},
   "outputs": [
    {
     "data": {
      "text/plain": [
       "count    3111.000000\n",
       "mean        0.316813\n",
       "std         0.153265\n",
       "min         0.031000\n",
       "25%         0.204500\n",
       "50%         0.285000\n",
       "75%         0.399000\n",
       "max         0.928000\n",
       "Name: percentage16_Hillary_Clinton, dtype: float64"
      ]
     },
     "execution_count": 131,
     "metadata": {},
     "output_type": "execute_result"
    }
   ],
   "source": [
    "p_clinton.describe() # basic summary stats for Clinton 2016 proportion of vote by county"
   ]
  },
  {
   "cell_type": "code",
   "execution_count": 132,
   "metadata": {},
   "outputs": [
    {
     "data": {
      "text/plain": [
       "count    3252.000000\n",
       "mean       70.744772\n",
       "std       334.656879\n",
       "min         0.000000\n",
       "25%         2.000000\n",
       "50%        10.000000\n",
       "75%        35.000000\n",
       "max      7404.000000\n",
       "Name: deaths, dtype: float64"
      ]
     },
     "execution_count": 132,
     "metadata": {},
     "output_type": "execute_result"
    }
   ],
   "source": [
    "cov_deaths.describe() # basic summary stats for COVID-19 deaths by county"
   ]
  },
  {
   "cell_type": "code",
   "execution_count": 133,
   "metadata": {},
   "outputs": [
    {
     "data": {
      "text/plain": [
       "count    3.142000e+03\n",
       "mean     1.021656e+05\n",
       "std      3.282922e+05\n",
       "min      7.400000e+01\n",
       "25%      1.094525e+04\n",
       "50%      2.569150e+04\n",
       "75%      6.744500e+04\n",
       "max      1.010572e+07\n",
       "Name: TotalPop, dtype: float64"
      ]
     },
     "execution_count": 133,
     "metadata": {},
     "output_type": "execute_result"
    }
   ],
   "source": [
    "population.describe() # basic summary stats for population totals by county"
   ]
  },
  {
   "cell_type": "markdown",
   "metadata": {},
   "source": [
    "There are a few things to note from the basic summary of the data above. In every percentile under analysis (as well as the mean) Biden (2020) outperformed Clinton (2016) in terms of the proportion of the vote they received in each county. The mean and median values for those two variables are quite close to one another. Also, there are 1379 more observations for Biden (2020) than there are for Clinton (2016); Schacht, who assembled the dataset, notes that this is in part due to the fact of changing counties in a couple of states.\n",
    "\n",
    "For the population and COVID-19 deaths summaries it is immediately clear that the mean is substantially greater than the median. The maximum value is also much greater than the 75th percentile in each case.  This is an indication that the distribution of these variables may be highly positively skewed – I check on this with histograms subsequently."
   ]
  },
  {
   "cell_type": "markdown",
   "metadata": {},
   "source": [
    "#### Visual depictions of distributions of, and relationships between variables"
   ]
  },
  {
   "cell_type": "code",
   "execution_count": 134,
   "metadata": {},
   "outputs": [
    {
     "data": {
      "text/plain": [
       "Text(0.5, 1.0, 'Distribution of Joe Biden Vote Proportions by County')"
      ]
     },
     "execution_count": 134,
     "metadata": {},
     "output_type": "execute_result"
    },
    {
     "data": {
      "image/png": "[encoded data removed]",
      "text/plain": [
       "<Figure size 432x288 with 1 Axes>"
      ]
     },
     "metadata": {
      "needs_background": "light"
     },
     "output_type": "display_data"
    }
   ],
   "source": [
    "plt.hist(p_biden, bins = 50) # plot a histogram depicting the distribution of the proportion of votes won by Biden by county\n",
    "plt.xlabel('Proportion of Votes for Biden')\n",
    "plt.ylabel('Frequency')\n",
    "plt.title('Distribution of Joe Biden Vote Proportions by County')"
   ]
  },
  {
   "cell_type": "markdown",
   "metadata": {},
   "source": [
    "The graph above illustrates the distribution of the proportion of votes won by Biden by county. Despite the fact that Biden won the election, the mean and median values of the vote proportions for him are clearly less than 50% (0.5). This is because these statistics are not weighted by population. Democrats typically perform best in counties with high population densities – Biden is no exception to this general rule.  This explains why Biden can have a good lot of counties where he only received approximately 20% of the vote and still win the election."
   ]
  },
  {
   "cell_type": "code",
   "execution_count": 135,
   "metadata": {},
   "outputs": [
    {
     "data": {
      "text/plain": [
       "Text(0.5, 1.0, 'COVID-19 Deaths & Vote Proportions for Biden by County')"
      ]
     },
     "execution_count": 135,
     "metadata": {},
     "output_type": "execute_result"
    },
    {
     "data": {
      "image/png": "[encoded data removed]",
      "text/plain": [
       "<Figure size 432x288 with 1 Axes>"
      ]
     },
     "metadata": {
      "needs_background": "light"
     },
     "output_type": "display_data"
    }
   ],
   "source": [
    "plt.scatter(cov_deaths, p_biden) # draw a scatter plot illustrating the relationship between COVID-19 deaths and proportion of votes for Biden\n",
    "plt.xlabel('COVID-19 Deaths')\n",
    "plt.ylabel('Proportion of Votes for Biden')\n",
    "plt.title(\"COVID-19 Deaths & Vote Proportions for Biden by County\")"
   ]
  },
  {
   "cell_type": "markdown",
   "metadata": {},
   "source": [
    "The graph above seems to depict a weak positive relationship between the proportion of votes for Biden and the number of COVID-19 deaths in a county. By the looks of it, the relationship between the two appears to be non-linear (following an almost logarithmic or square-root function type of shape). Overall, counties with high COVID-19 death counts seemed to favour Biden, however, there is a high concentration of areas with relatively lower COVID-19 deaths (as was stated in the summary statistics, the median is 10 deaths, and the 75th percentile is 35 deaths.  As a result, there are many counties with death totals in the range who favoured either candidate. "
   ]
  },
  {
   "cell_type": "code",
   "execution_count": 136,
   "metadata": {},
   "outputs": [
    {
     "data": {
      "text/plain": [
       "Text(0.5, 1.0, 'Distribution of COVID-19 Deaths by County')"
      ]
     },
     "execution_count": 136,
     "metadata": {},
     "output_type": "execute_result"
    },
    {
     "data": {
      "image/png": "[encoded data removed]",
      "text/plain": [
       "<Figure size 432x288 with 1 Axes>"
      ]
     },
     "metadata": {
      "needs_background": "light"
     },
     "output_type": "display_data"
    }
   ],
   "source": [
    "plt.hist(cov_deaths, bins = 50) # plot a histogram depicting the distribution of COVID-19 deaths by county\n",
    "plt.xlabel('COVID-19 deaths')\n",
    "plt.ylabel('Frequency')\n",
    "plt.title('Distribution of COVID-19 Deaths by County')"
   ]
  },
  {
   "cell_type": "code",
   "execution_count": 137,
   "metadata": {},
   "outputs": [
    {
     "data": {
      "image/png": "[encoded data removed]",
      "text/plain": [
       "<Figure size 432x288 with 1 Axes>"
      ]
     },
     "metadata": {
      "needs_background": "light"
     },
     "output_type": "display_data"
    }
   ],
   "source": [
    "plt.hist(cov_deaths, bins = 50) # plot a histogram depicting the distribution of COVID-19 deaths by county for values under 2000\n",
    "plt.xlim(0, 2000)\n",
    "plt.xlabel('COVID-19 deaths')\n",
    "plt.ylabel('Frequency')\n",
    "plt.title('Distribution of COVID-19 Deaths by County (values < 2000)')\n",
    "plt.show()"
   ]
  },
  {
   "cell_type": "markdown",
   "metadata": {},
   "source": [
    "The two graphs above illustrate the distribution of the number of COVID-19 deaths by county. As was expected (based on the summary statistics) the distribution is highly postively skewed. The distribution is in fact so postively skewed that the first graph made it difficult to visualize the distribution, so a second is provided with only values under 2000 (into the 99th percentile). As was aforementioned, this graph describes the fact that there are many counties with relatively few COVID-19 deaths (at the time of November 1, 2020), and a small proportion of counties with multitudes more deaths."
   ]
  },
  {
   "cell_type": "code",
   "execution_count": 138,
   "metadata": {},
   "outputs": [
    {
     "data": {
      "text/plain": [
       "Text(0.5, 1.0, 'Populations & Vote Proportions for Biden by County')"
      ]
     },
     "execution_count": 138,
     "metadata": {},
     "output_type": "execute_result"
    },
    {
     "data": {
      "image/png": "[encoded data removed]",
      "text/plain": [
       "<Figure size 432x288 with 1 Axes>"
      ]
     },
     "metadata": {
      "needs_background": "light"
     },
     "output_type": "display_data"
    }
   ],
   "source": [
    "plt.scatter(population, p_biden) # draw a scatter plot illustrating the relationship between population and proportion of votes for Biden\n",
    "plt.xlabel('Population')\n",
    "plt.ylabel('Proportion of Votes for Biden')\n",
    "plt.title(\"Populations & Vote Proportions for Biden by County\")"
   ]
  },
  {
   "cell_type": "markdown",
   "metadata": {},
   "source": [
    "Much like the scatter plot with the COVID-19 deaths before, the graph above depicts a weak positive relationship between the proportion of votes for Biden and the number of COVID-19 deaths in a county. As it was in the prior case, the relationship between the two appears to be non-linear (following an almost logarithmic or square-root function type of shape). There are many more counties with relatively lower populations than there are with large ones.  One of the primary functions of studying population size as part of this analysis is that it likely has an effect on both the proportion of a county's voters who voted a particular candidate (Democrats typically do well in counties with large populations), and the number of COVID-19 deaths (high COVID-19 deaths associated with high population densities). If the size of the population is left unaccounted for in this analysis, it will be a confounder associated with potentially high endogeneity bias.  I have included a scatter plot below which illustrates the relationship between population and COVID-deaths (two of my independent variables); this demonstrates the importance of including it in the analysis."
   ]
  },
  {
   "cell_type": "code",
   "execution_count": 139,
   "metadata": {},
   "outputs": [
    {
     "data": {
      "text/plain": [
       "Text(0.5, 1.0, 'Populations & COVID-19 Deaths by County')"
      ]
     },
     "execution_count": 139,
     "metadata": {},
     "output_type": "execute_result"
    },
    {
     "data": {
      "image/png": "[encoded data removed]",
      "text/plain": [
       "<Figure size 432x288 with 1 Axes>"
      ]
     },
     "metadata": {
      "needs_background": "light"
     },
     "output_type": "display_data"
    }
   ],
   "source": [
    "plt.scatter(population, cov_deaths) # draw a scatter plot with population and COVID-19 deaths\n",
    "plt.xlabel('Population')\n",
    "plt.ylabel('COVID-19 Deaths')\n",
    "plt.title(\"Populations & COVID-19 Deaths by County\")"
   ]
  },
  {
   "cell_type": "code",
   "execution_count": 140,
   "metadata": {},
   "outputs": [
    {
     "data": {
      "text/plain": [
       "Text(0.5, 1.0, 'Distribution of Population Size by County')"
      ]
     },
     "execution_count": 140,
     "metadata": {},
     "output_type": "execute_result"
    },
    {
     "data": {
      "image/png": "[encoded data removed]",
      "text/plain": [
       "<Figure size 432x288 with 1 Axes>"
      ]
     },
     "metadata": {
      "needs_background": "light"
     },
     "output_type": "display_data"
    }
   ],
   "source": [
    "plt.hist(population, bins = 50) # plot a histogram depicting the distribution of population by county\n",
    "plt.ylabel('Frequency')\n",
    "plt.title('Distribution of Population Size by County')"
   ]
  },
  {
   "cell_type": "code",
   "execution_count": 141,
   "metadata": {},
   "outputs": [
    {
     "data": {
      "image/png": "[encoded data removed]",
      "text/plain": [
       "<Figure size 432x288 with 1 Axes>"
      ]
     },
     "metadata": {
      "needs_background": "light"
     },
     "output_type": "display_data"
    }
   ],
   "source": [
    "plt.hist(population, bins = 100) # plot a histogram depicting the distribution of population by county for values under 1.5 million\n",
    "plt.xlim(0, 1500000)\n",
    "plt.xlabel('Population Size')\n",
    "plt.ylabel('Frequency')\n",
    "plt.title('Distribution of Population Size by County (values < 1.5 million)')\n",
    "plt.show()"
   ]
  },
  {
   "cell_type": "markdown",
   "metadata": {},
   "source": [
    "The two graphs above illustrate the distribution of county populations. Again, the distribution is highly postively skewed suchthat a second is valuable to help visualize it; in the second, values under 1.5 million people are provided (into the 99th percentile).  This explains the fact that many more counties have populations below the mean, while only a small proportion of counties hold populations well above it."
   ]
  },
  {
   "cell_type": "code",
   "execution_count": 142,
   "metadata": {},
   "outputs": [
    {
     "data": {
      "text/plain": [
       "Text(0.5, 1.0, \"Vote Proportions for Clinton '16 and Biden '20 by County\")"
      ]
     },
     "execution_count": 142,
     "metadata": {},
     "output_type": "execute_result"
    },
    {
     "data": {
      "image/png": "[encoded data removed]",
      "text/plain": [
       "<Figure size 432x288 with 1 Axes>"
      ]
     },
     "metadata": {
      "needs_background": "light"
     },
     "output_type": "display_data"
    }
   ],
   "source": [
    "plt.scatter(p_clinton, p_biden) # draw a scatter plot showing relationship between %Biden and %Clinton by county\n",
    "plt.xlabel('Proportion of Votes for Clinton')\n",
    "plt.ylabel('Proportion of Votes for Biden')\n",
    "plt.title(\"Vote Proportions for Clinton '16 and Biden '20 by County\")"
   ]
  },
  {
   "cell_type": "markdown",
   "metadata": {},
   "source": [
    "The scatter plot above depicts relationship between the proportion of votes for Clinton in 2016 and Biden in 2020 by county.  There is a clear strong postive correlation between the two variables. This is to be expected; most people who voted Democrat in 2016 will also vote Democrat in 2020 (the same is, of course, true for Republicans). That is precisely the reason it is worthwhile to include this variable in the analysis. While the candidates and set of circumstances are different, if one is to isolate for the effect of the COVID-19 pandemic on the 2020 election, using the results of the previous election as a control can help identify differences where they exist – there is the potential for COVID-19 to have played a role in manifesting these differences. "
   ]
  },
  {
   "cell_type": "code",
   "execution_count": 143,
   "metadata": {},
   "outputs": [
    {
     "data": {
      "text/plain": [
       "Text(0.5, 1.0, 'Distribution of Hillary Clinton Vote Proportions by County')"
      ]
     },
     "execution_count": 143,
     "metadata": {},
     "output_type": "execute_result"
    },
    {
     "data": {
      "image/png": "[encoded data removed]",
      "text/plain": [
       "<Figure size 432x288 with 1 Axes>"
      ]
     },
     "metadata": {
      "needs_background": "light"
     },
     "output_type": "display_data"
    }
   ],
   "source": [
    "plt.hist(p_clinton, bins = 50)  # plot a histogram depicting the distribution of %Clinton votes by county\n",
    "plt.xlabel('Proportion of Votes for Clinton')\n",
    "plt.ylabel('Frequency')\n",
    "plt.title('Distribution of Hillary Clinton Vote Proportions by County')"
   ]
  },
  {
   "cell_type": "markdown",
   "metadata": {},
   "source": [
    "The graph above illustrates the distribution of the proportion of votes won by Hillary Clinton in 2016 by county. Again, even though she won the popular vote, the mean and median values of the vote proportions for him are clearly less than 50% (0.5). There is positive skew in the distribution (albeit far less than the two other independent variabels previously studied). As was the case with the distribution of vote proportions for Biden by county, the counties with higher populations tend to lean the most towards voting for Clinton."
   ]
  },
  {
   "cell_type": "raw",
   "metadata": {},
   "source": [
    "if df['state'] == \"WI\":\n",
    "    df[\"swing_state_biden_won\"] = 1\n",
    "elif df['state'] == \"MI\":\n",
    "    df[\"swing_state_biden_won\"] = 1\n",
    "elif df['state'] == \"PA\":\n",
    "    df[\"swing_state_biden_won\"] = 1\n",
    "elif df['state'] == \"GA\":\n",
    "    df[\"swing_state_biden_won\"] = 1\n",
    "elif df['state'] == \"AZ\":\n",
    "    df[\"swing_state_biden_won\"] = 1\n",
    "elif df['state'] == \"NV\":\n",
    "    df[\"swing_state_biden_won\"] = 1\n",
    "else:\n",
    "    df[\"swing_state_biden_won\"] = 0"
   ]
  },
  {
   "cell_type": "raw",
   "metadata": {},
   "source": [
    "if df['state'] == \"WI\" or df['state'] == \"MI\" or df['state'] == \"PA\" or df['state'] == \"GA\" or df['state'] == \"AZ\" or df['state'] == \"NV\":\n",
    "    df[\"swing_state_biden_won\"] = 1\n",
    "else:\n",
    "    df[\"swing_state_biden_won\"] = 0"
   ]
  },
  {
   "cell_type": "markdown",
   "metadata": {},
   "source": [
    "## Conclusion & Future Steps"
   ]
  },
  {
   "cell_type": "markdown",
   "metadata": {},
   "source": [
    "To conclude, this project provides the basis for an analysis into the effect of the COVID-19 pandemic on the outcome of the 2020 US presidential election. Early figures regarding the distributions of, and relationships between the independent and dependent variable give reason to believe that, equipped with the proper identification strategy, there may be the opportunity to isolate the causal effect of COVID-19 on the election.\n",
    "\n",
    "In terms of future steps, several come to mind. First, I would like to go beyond simply looking at the difference in the proportion who voted for Biden as compared to the 2016 election, and examine any possible influences of increases in voter turnout.  The sizeable increase in turnout in counties that voted overwhelmingly for Democrats in both elections was a determining factor of the outcome; it is worthwhile to see how much of this increase in turnout may have been induced by COVID-19. I would also like to examine other possible independent variables to use as controls – the data is rich with demographic and socioeconomic variables, and I will experiment to see which ones are best suited to this particular analysis.\n",
    "\n",
    "Moreover, the US Presidential Election is conducted under the framework of the Electoral College. By extension, certain so-called \"swing states\" where vote totals are likely to be close are made especially valuable. The fact that Biden flipped six of these swing states (Arizona, Georgia, Michigan, Nevada, Pennsylvania, and Wisconsin) was critical to securing his victory.  Because of this, I will create a group within the data that isolates these six states – the primary determinants of the outcome of the 2020 election - and attempt to identify what role, if any, COVID-19 played in influencing the results."
   ]
  }
 ],
 "metadata": {
  "kernelspec": {
   "display_name": "Python 3",
   "language": "python",
   "name": "python3"
  },
  "language_info": {
   "codemirror_mode": {
    "name": "ipython",
    "version": 3
   },
   "file_extension": ".py",
   "mimetype": "text/x-python",
   "name": "python",
   "nbconvert_exporter": "python",
   "pygments_lexer": "ipython3",
   "version": "3.8.5"
  }
 },
 "nbformat": 4,
 "nbformat_minor": 4
}
