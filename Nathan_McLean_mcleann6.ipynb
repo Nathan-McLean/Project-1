{
 "cells": [
  {
   "cell_type": "code",
   "execution_count": 35,
   "metadata": {},
   "outputs": [],
   "source": [
    "#ECO225 Project 1"
   ]
  },
  {
   "cell_type": "code",
   "execution_count": 36,
   "metadata": {},
   "outputs": [],
   "source": [
    "import numpy as num\n",
    "import pandas as pd\n",
    "import matplotlib.pyplot as plt\n",
    "import statistics\n",
    "import os"
   ]
  },
  {
   "cell_type": "code",
   "execution_count": 37,
   "metadata": {},
   "outputs": [],
   "source": [
    "df = pd.read_csv(\"county_statistics.csv\")"
   ]
  },
  {
   "cell_type": "code",
   "execution_count": 38,
   "metadata": {},
   "outputs": [
    {
     "data": {
      "text/html": [
       "<div>\n",
       "<style scoped>\n",
       "    .dataframe tbody tr th:only-of-type {\n",
       "        vertical-align: middle;\n",
       "    }\n",
       "\n",
       "    .dataframe tbody tr th {\n",
       "        vertical-align: top;\n",
       "    }\n",
       "\n",
       "    .dataframe thead th {\n",
       "        text-align: right;\n",
       "    }\n",
       "</style>\n",
       "<table border=\"1\" class=\"dataframe\">\n",
       "  <thead>\n",
       "    <tr style=\"text-align: right;\">\n",
       "      <th></th>\n",
       "      <th>Unnamed: 0</th>\n",
       "      <th>county</th>\n",
       "      <th>state</th>\n",
       "      <th>percentage16_Donald_Trump</th>\n",
       "      <th>percentage16_Hillary_Clinton</th>\n",
       "      <th>total_votes16</th>\n",
       "      <th>votes16_Donald_Trump</th>\n",
       "      <th>votes16_Hillary_Clinton</th>\n",
       "      <th>percentage20_Donald_Trump</th>\n",
       "      <th>percentage20_Joe_Biden</th>\n",
       "      <th>...</th>\n",
       "      <th>Walk</th>\n",
       "      <th>OtherTransp</th>\n",
       "      <th>WorkAtHome</th>\n",
       "      <th>MeanCommute</th>\n",
       "      <th>Employed</th>\n",
       "      <th>PrivateWork</th>\n",
       "      <th>PublicWork</th>\n",
       "      <th>SelfEmployed</th>\n",
       "      <th>FamilyWork</th>\n",
       "      <th>Unemployment</th>\n",
       "    </tr>\n",
       "  </thead>\n",
       "  <tbody>\n",
       "    <tr>\n",
       "      <th>0</th>\n",
       "      <td>0</td>\n",
       "      <td>Abbeville</td>\n",
       "      <td>SC</td>\n",
       "      <td>0.629</td>\n",
       "      <td>0.346</td>\n",
       "      <td>10724.0</td>\n",
       "      <td>6742.0</td>\n",
       "      <td>3712.0</td>\n",
       "      <td>0.661</td>\n",
       "      <td>0.330</td>\n",
       "      <td>...</td>\n",
       "      <td>1.8</td>\n",
       "      <td>1.8</td>\n",
       "      <td>6.5</td>\n",
       "      <td>25.8</td>\n",
       "      <td>9505.0</td>\n",
       "      <td>78.8</td>\n",
       "      <td>13.3</td>\n",
       "      <td>7.8</td>\n",
       "      <td>0.1</td>\n",
       "      <td>9.4</td>\n",
       "    </tr>\n",
       "    <tr>\n",
       "      <th>1</th>\n",
       "      <td>1</td>\n",
       "      <td>Acadia</td>\n",
       "      <td>LA</td>\n",
       "      <td>0.773</td>\n",
       "      <td>0.206</td>\n",
       "      <td>27386.0</td>\n",
       "      <td>21159.0</td>\n",
       "      <td>5638.0</td>\n",
       "      <td>0.795</td>\n",
       "      <td>0.191</td>\n",
       "      <td>...</td>\n",
       "      <td>1.6</td>\n",
       "      <td>2.2</td>\n",
       "      <td>2.5</td>\n",
       "      <td>27.6</td>\n",
       "      <td>24982.0</td>\n",
       "      <td>80.0</td>\n",
       "      <td>12.1</td>\n",
       "      <td>7.6</td>\n",
       "      <td>0.3</td>\n",
       "      <td>8.9</td>\n",
       "    </tr>\n",
       "    <tr>\n",
       "      <th>2</th>\n",
       "      <td>2</td>\n",
       "      <td>Accomack</td>\n",
       "      <td>VA</td>\n",
       "      <td>0.545</td>\n",
       "      <td>0.428</td>\n",
       "      <td>15755.0</td>\n",
       "      <td>8582.0</td>\n",
       "      <td>6737.0</td>\n",
       "      <td>0.542</td>\n",
       "      <td>0.447</td>\n",
       "      <td>...</td>\n",
       "      <td>2.6</td>\n",
       "      <td>1.8</td>\n",
       "      <td>4.5</td>\n",
       "      <td>22.0</td>\n",
       "      <td>13837.0</td>\n",
       "      <td>74.6</td>\n",
       "      <td>18.1</td>\n",
       "      <td>7.1</td>\n",
       "      <td>0.2</td>\n",
       "      <td>5.4</td>\n",
       "    </tr>\n",
       "    <tr>\n",
       "      <th>3</th>\n",
       "      <td>3</td>\n",
       "      <td>Ada</td>\n",
       "      <td>ID</td>\n",
       "      <td>0.479</td>\n",
       "      <td>0.387</td>\n",
       "      <td>195587.0</td>\n",
       "      <td>93748.0</td>\n",
       "      <td>75676.0</td>\n",
       "      <td>0.504</td>\n",
       "      <td>0.465</td>\n",
       "      <td>...</td>\n",
       "      <td>1.5</td>\n",
       "      <td>2.8</td>\n",
       "      <td>6.9</td>\n",
       "      <td>20.4</td>\n",
       "      <td>214984.0</td>\n",
       "      <td>78.3</td>\n",
       "      <td>15.0</td>\n",
       "      <td>6.6</td>\n",
       "      <td>0.1</td>\n",
       "      <td>4.3</td>\n",
       "    </tr>\n",
       "    <tr>\n",
       "      <th>4</th>\n",
       "      <td>4</td>\n",
       "      <td>Adair</td>\n",
       "      <td>IA</td>\n",
       "      <td>0.653</td>\n",
       "      <td>0.300</td>\n",
       "      <td>3759.0</td>\n",
       "      <td>2456.0</td>\n",
       "      <td>1127.0</td>\n",
       "      <td>0.697</td>\n",
       "      <td>0.286</td>\n",
       "      <td>...</td>\n",
       "      <td>2.8</td>\n",
       "      <td>0.4</td>\n",
       "      <td>6.2</td>\n",
       "      <td>22.3</td>\n",
       "      <td>3680.0</td>\n",
       "      <td>73.8</td>\n",
       "      <td>15.3</td>\n",
       "      <td>10.4</td>\n",
       "      <td>0.5</td>\n",
       "      <td>3.0</td>\n",
       "    </tr>\n",
       "  </tbody>\n",
       "</table>\n",
       "<p>5 rows × 51 columns</p>\n",
       "</div>"
      ],
      "text/plain": [
       "   Unnamed: 0     county state  percentage16_Donald_Trump  \\\n",
       "0           0  Abbeville    SC                      0.629   \n",
       "1           1     Acadia    LA                      0.773   \n",
       "2           2   Accomack    VA                      0.545   \n",
       "3           3        Ada    ID                      0.479   \n",
       "4           4      Adair    IA                      0.653   \n",
       "\n",
       "   percentage16_Hillary_Clinton  total_votes16  votes16_Donald_Trump  \\\n",
       "0                         0.346        10724.0                6742.0   \n",
       "1                         0.206        27386.0               21159.0   \n",
       "2                         0.428        15755.0                8582.0   \n",
       "3                         0.387       195587.0               93748.0   \n",
       "4                         0.300         3759.0                2456.0   \n",
       "\n",
       "   votes16_Hillary_Clinton  percentage20_Donald_Trump  percentage20_Joe_Biden  \\\n",
       "0                   3712.0                      0.661                   0.330   \n",
       "1                   5638.0                      0.795                   0.191   \n",
       "2                   6737.0                      0.542                   0.447   \n",
       "3                  75676.0                      0.504                   0.465   \n",
       "4                   1127.0                      0.697                   0.286   \n",
       "\n",
       "   ...  Walk  OtherTransp  WorkAtHome  MeanCommute  Employed  PrivateWork  \\\n",
       "0  ...   1.8          1.8         6.5         25.8    9505.0         78.8   \n",
       "1  ...   1.6          2.2         2.5         27.6   24982.0         80.0   \n",
       "2  ...   2.6          1.8         4.5         22.0   13837.0         74.6   \n",
       "3  ...   1.5          2.8         6.9         20.4  214984.0         78.3   \n",
       "4  ...   2.8          0.4         6.2         22.3    3680.0         73.8   \n",
       "\n",
       "   PublicWork  SelfEmployed  FamilyWork  Unemployment  \n",
       "0        13.3           7.8         0.1           9.4  \n",
       "1        12.1           7.6         0.3           8.9  \n",
       "2        18.1           7.1         0.2           5.4  \n",
       "3        15.0           6.6         0.1           4.3  \n",
       "4        15.3          10.4         0.5           3.0  \n",
       "\n",
       "[5 rows x 51 columns]"
      ]
     },
     "execution_count": 38,
     "metadata": {},
     "output_type": "execute_result"
    }
   ],
   "source": [
    "df.head()"
   ]
  },
  {
   "cell_type": "code",
   "execution_count": 39,
   "metadata": {},
   "outputs": [],
   "source": [
    "p_biden = df[\"percentage20_Joe_Biden\"]\n",
    "p_clinton = df[\"percentage16_Hillary_Clinton\"]\n",
    "black = df[\"Black\"]\n",
    "unemp = df[\"Unemployment\"]\n",
    "cov_deaths = df[\"deaths\"]\n",
    "cov_cases = df[\"cases\"]\n",
    "population = df[\"TotalPop\"]\n",
    "native = df[\"Native\"]\n",
    "income = df[\"Income\"]"
   ]
  },
  {
   "cell_type": "code",
   "execution_count": 40,
   "metadata": {},
   "outputs": [
    {
     "data": {
      "text/plain": [
       "<matplotlib.collections.PathCollection at 0x7f821d47bdf0>"
      ]
     },
     "execution_count": 40,
     "metadata": {},
     "output_type": "execute_result"
    },
    {
     "data": {
      "image/png": "[encoded data removed]",
      "text/plain": [
       "<Figure size 432x288 with 1 Axes>"
      ]
     },
     "metadata": {
      "needs_background": "light"
     },
     "output_type": "display_data"
    }
   ],
   "source": [
    "plt.scatter(black, p_biden)"
   ]
  },
  {
   "cell_type": "code",
   "execution_count": 41,
   "metadata": {},
   "outputs": [
    {
     "data": {
      "text/plain": [
       "<matplotlib.collections.PathCollection at 0x7f821d393c10>"
      ]
     },
     "execution_count": 41,
     "metadata": {},
     "output_type": "execute_result"
    },
    {
     "data": {
      "image/png": "[encoded data removed]",
      "text/plain": [
       "<Figure size 432x288 with 1 Axes>"
      ]
     },
     "metadata": {
      "needs_background": "light"
     },
     "output_type": "display_data"
    }
   ],
   "source": [
    "plt.scatter(unemp, p_biden)"
   ]
  },
  {
   "cell_type": "code",
   "execution_count": 42,
   "metadata": {},
   "outputs": [
    {
     "data": {
      "text/plain": [
       "<matplotlib.collections.PathCollection at 0x7f821d920ee0>"
      ]
     },
     "execution_count": 42,
     "metadata": {},
     "output_type": "execute_result"
    },
    {
     "data": {
      "image/png": "[encoded data removed]",
      "text/plain": [
       "<Figure size 432x288 with 1 Axes>"
      ]
     },
     "metadata": {
      "needs_background": "light"
     },
     "output_type": "display_data"
    }
   ],
   "source": [
    "plt.scatter(cov_deaths, p_biden)"
   ]
  },
  {
   "cell_type": "code",
   "execution_count": 43,
   "metadata": {},
   "outputs": [
    {
     "data": {
      "text/plain": [
       "<matplotlib.collections.PathCollection at 0x7f821d9958e0>"
      ]
     },
     "execution_count": 43,
     "metadata": {},
     "output_type": "execute_result"
    },
    {
     "data": {
      "image/png": "[encoded data removed]",
      "text/plain": [
       "<Figure size 432x288 with 1 Axes>"
      ]
     },
     "metadata": {
      "needs_background": "light"
     },
     "output_type": "display_data"
    }
   ],
   "source": [
    "plt.scatter(population, p_biden)"
   ]
  },
  {
   "cell_type": "code",
   "execution_count": 44,
   "metadata": {},
   "outputs": [
    {
     "data": {
      "text/plain": [
       "<matplotlib.collections.PathCollection at 0x7f821da44c10>"
      ]
     },
     "execution_count": 44,
     "metadata": {},
     "output_type": "execute_result"
    },
    {
     "data": {
      "image/png": "[encoded data removed]",
      "text/plain": [
       "<Figure size 432x288 with 1 Axes>"
      ]
     },
     "metadata": {
      "needs_background": "light"
     },
     "output_type": "display_data"
    }
   ],
   "source": [
    "plt.scatter(native, p_biden)"
   ]
  },
  {
   "cell_type": "code",
   "execution_count": 45,
   "metadata": {},
   "outputs": [
    {
     "data": {
      "text/plain": [
       "<matplotlib.collections.PathCollection at 0x7f821dbaca00>"
      ]
     },
     "execution_count": 45,
     "metadata": {},
     "output_type": "execute_result"
    },
    {
     "data": {
      "image/png": "[encoded data removed]",
      "text/plain": [
       "<Figure size 432x288 with 1 Axes>"
      ]
     },
     "metadata": {
      "needs_background": "light"
     },
     "output_type": "display_data"
    }
   ],
   "source": [
    "plt.scatter(p_clinton, p_biden)"
   ]
  },
  {
   "cell_type": "code",
   "execution_count": 46,
   "metadata": {},
   "outputs": [
    {
     "data": {
      "text/plain": [
       "<matplotlib.collections.PathCollection at 0x7f821dca57f0>"
      ]
     },
     "execution_count": 46,
     "metadata": {},
     "output_type": "execute_result"
    },
    {
     "data": {
      "image/png": "[encoded data removed]",
      "text/plain": [
       "<Figure size 432x288 with 1 Axes>"
      ]
     },
     "metadata": {
      "needs_background": "light"
     },
     "output_type": "display_data"
    }
   ],
   "source": [
    "plt.scatter(income, p_biden)"
   ]
  },
  {
   "cell_type": "code",
   "execution_count": 47,
   "metadata": {},
   "outputs": [
    {
     "data": {
      "text/plain": [
       "<matplotlib.collections.PathCollection at 0x7f821d3ecac0>"
      ]
     },
     "execution_count": 47,
     "metadata": {},
     "output_type": "execute_result"
    },
    {
     "data": {
      "image/png": "[encoded data removed]",
      "text/plain": [
       "<Figure size 432x288 with 1 Axes>"
      ]
     },
     "metadata": {
      "needs_background": "light"
     },
     "output_type": "display_data"
    }
   ],
   "source": [
    "plt.scatter(cov_cases, p_biden)"
   ]
  },
  {
   "cell_type": "code",
   "execution_count": 48,
   "metadata": {},
   "outputs": [],
   "source": [
    "df[\"biden_won\"] = df.votes20_Joe_Biden > df.votes20_Donald_Trump"
   ]
  },
  {
   "cell_type": "code",
   "execution_count": 50,
   "metadata": {},
   "outputs": [
    {
     "data": {
      "text/html": [
       "<div>\n",
       "<style scoped>\n",
       "    .dataframe tbody tr th:only-of-type {\n",
       "        vertical-align: middle;\n",
       "    }\n",
       "\n",
       "    .dataframe tbody tr th {\n",
       "        vertical-align: top;\n",
       "    }\n",
       "\n",
       "    .dataframe thead th {\n",
       "        text-align: right;\n",
       "    }\n",
       "</style>\n",
       "<table border=\"1\" class=\"dataframe\">\n",
       "  <thead>\n",
       "    <tr style=\"text-align: right;\">\n",
       "      <th></th>\n",
       "      <th>Unnamed: 0</th>\n",
       "      <th>county</th>\n",
       "      <th>state</th>\n",
       "      <th>percentage16_Donald_Trump</th>\n",
       "      <th>percentage16_Hillary_Clinton</th>\n",
       "      <th>total_votes16</th>\n",
       "      <th>votes16_Donald_Trump</th>\n",
       "      <th>votes16_Hillary_Clinton</th>\n",
       "      <th>percentage20_Donald_Trump</th>\n",
       "      <th>percentage20_Joe_Biden</th>\n",
       "      <th>...</th>\n",
       "      <th>OtherTransp</th>\n",
       "      <th>WorkAtHome</th>\n",
       "      <th>MeanCommute</th>\n",
       "      <th>Employed</th>\n",
       "      <th>PrivateWork</th>\n",
       "      <th>PublicWork</th>\n",
       "      <th>SelfEmployed</th>\n",
       "      <th>FamilyWork</th>\n",
       "      <th>Unemployment</th>\n",
       "      <th>biden_won</th>\n",
       "    </tr>\n",
       "  </thead>\n",
       "  <tbody>\n",
       "    <tr>\n",
       "      <th>4862</th>\n",
       "      <td>4950</td>\n",
       "      <td>Valdez-Cordova Census Area</td>\n",
       "      <td>AK</td>\n",
       "      <td>NaN</td>\n",
       "      <td>NaN</td>\n",
       "      <td>NaN</td>\n",
       "      <td>NaN</td>\n",
       "      <td>NaN</td>\n",
       "      <td>NaN</td>\n",
       "      <td>NaN</td>\n",
       "      <td>...</td>\n",
       "      <td>2.8</td>\n",
       "      <td>3.8</td>\n",
       "      <td>11.0</td>\n",
       "      <td>4755.0</td>\n",
       "      <td>56.9</td>\n",
       "      <td>34.6</td>\n",
       "      <td>7.8</td>\n",
       "      <td>0.7</td>\n",
       "      <td>7.5</td>\n",
       "      <td>False</td>\n",
       "    </tr>\n",
       "    <tr>\n",
       "      <th>4863</th>\n",
       "      <td>4951</td>\n",
       "      <td>Wrangell City and Borough</td>\n",
       "      <td>AK</td>\n",
       "      <td>NaN</td>\n",
       "      <td>NaN</td>\n",
       "      <td>NaN</td>\n",
       "      <td>NaN</td>\n",
       "      <td>NaN</td>\n",
       "      <td>NaN</td>\n",
       "      <td>NaN</td>\n",
       "      <td>...</td>\n",
       "      <td>5.8</td>\n",
       "      <td>8.4</td>\n",
       "      <td>9.4</td>\n",
       "      <td>1095.0</td>\n",
       "      <td>52.5</td>\n",
       "      <td>32.3</td>\n",
       "      <td>12.5</td>\n",
       "      <td>2.6</td>\n",
       "      <td>7.0</td>\n",
       "      <td>False</td>\n",
       "    </tr>\n",
       "    <tr>\n",
       "      <th>4864</th>\n",
       "      <td>4952</td>\n",
       "      <td>Yakutat City and Borough</td>\n",
       "      <td>AK</td>\n",
       "      <td>NaN</td>\n",
       "      <td>NaN</td>\n",
       "      <td>NaN</td>\n",
       "      <td>NaN</td>\n",
       "      <td>NaN</td>\n",
       "      <td>NaN</td>\n",
       "      <td>NaN</td>\n",
       "      <td>...</td>\n",
       "      <td>5.0</td>\n",
       "      <td>4.2</td>\n",
       "      <td>6.5</td>\n",
       "      <td>377.0</td>\n",
       "      <td>45.6</td>\n",
       "      <td>44.0</td>\n",
       "      <td>10.3</td>\n",
       "      <td>0.0</td>\n",
       "      <td>6.5</td>\n",
       "      <td>False</td>\n",
       "    </tr>\n",
       "    <tr>\n",
       "      <th>4865</th>\n",
       "      <td>4953</td>\n",
       "      <td>Yukon-Koyukuk Census Area</td>\n",
       "      <td>AK</td>\n",
       "      <td>NaN</td>\n",
       "      <td>NaN</td>\n",
       "      <td>NaN</td>\n",
       "      <td>NaN</td>\n",
       "      <td>NaN</td>\n",
       "      <td>NaN</td>\n",
       "      <td>NaN</td>\n",
       "      <td>...</td>\n",
       "      <td>19.2</td>\n",
       "      <td>8.0</td>\n",
       "      <td>8.4</td>\n",
       "      <td>2082.0</td>\n",
       "      <td>38.8</td>\n",
       "      <td>56.5</td>\n",
       "      <td>4.7</td>\n",
       "      <td>0.0</td>\n",
       "      <td>19.7</td>\n",
       "      <td>False</td>\n",
       "    </tr>\n",
       "    <tr>\n",
       "      <th>4866</th>\n",
       "      <td>4954</td>\n",
       "      <td>Doña Ana</td>\n",
       "      <td>NM</td>\n",
       "      <td>NaN</td>\n",
       "      <td>NaN</td>\n",
       "      <td>NaN</td>\n",
       "      <td>NaN</td>\n",
       "      <td>NaN</td>\n",
       "      <td>NaN</td>\n",
       "      <td>NaN</td>\n",
       "      <td>...</td>\n",
       "      <td>1.6</td>\n",
       "      <td>4.2</td>\n",
       "      <td>20.8</td>\n",
       "      <td>88633.0</td>\n",
       "      <td>70.5</td>\n",
       "      <td>22.9</td>\n",
       "      <td>6.5</td>\n",
       "      <td>0.1</td>\n",
       "      <td>9.3</td>\n",
       "      <td>False</td>\n",
       "    </tr>\n",
       "  </tbody>\n",
       "</table>\n",
       "<p>5 rows × 52 columns</p>\n",
       "</div>"
      ],
      "text/plain": [
       "      Unnamed: 0                      county state  percentage16_Donald_Trump  \\\n",
       "4862        4950  Valdez-Cordova Census Area    AK                        NaN   \n",
       "4863        4951   Wrangell City and Borough    AK                        NaN   \n",
       "4864        4952    Yakutat City and Borough    AK                        NaN   \n",
       "4865        4953   Yukon-Koyukuk Census Area    AK                        NaN   \n",
       "4866        4954                    Doña Ana    NM                        NaN   \n",
       "\n",
       "      percentage16_Hillary_Clinton  total_votes16  votes16_Donald_Trump  \\\n",
       "4862                           NaN            NaN                   NaN   \n",
       "4863                           NaN            NaN                   NaN   \n",
       "4864                           NaN            NaN                   NaN   \n",
       "4865                           NaN            NaN                   NaN   \n",
       "4866                           NaN            NaN                   NaN   \n",
       "\n",
       "      votes16_Hillary_Clinton  percentage20_Donald_Trump  \\\n",
       "4862                      NaN                        NaN   \n",
       "4863                      NaN                        NaN   \n",
       "4864                      NaN                        NaN   \n",
       "4865                      NaN                        NaN   \n",
       "4866                      NaN                        NaN   \n",
       "\n",
       "      percentage20_Joe_Biden  ...  OtherTransp  WorkAtHome  MeanCommute  \\\n",
       "4862                     NaN  ...          2.8         3.8         11.0   \n",
       "4863                     NaN  ...          5.8         8.4          9.4   \n",
       "4864                     NaN  ...          5.0         4.2          6.5   \n",
       "4865                     NaN  ...         19.2         8.0          8.4   \n",
       "4866                     NaN  ...          1.6         4.2         20.8   \n",
       "\n",
       "      Employed  PrivateWork  PublicWork  SelfEmployed  FamilyWork  \\\n",
       "4862    4755.0         56.9        34.6           7.8         0.7   \n",
       "4863    1095.0         52.5        32.3          12.5         2.6   \n",
       "4864     377.0         45.6        44.0          10.3         0.0   \n",
       "4865    2082.0         38.8        56.5           4.7         0.0   \n",
       "4866   88633.0         70.5        22.9           6.5         0.1   \n",
       "\n",
       "      Unemployment  biden_won  \n",
       "4862           7.5      False  \n",
       "4863           7.0      False  \n",
       "4864           6.5      False  \n",
       "4865          19.7      False  \n",
       "4866           9.3      False  \n",
       "\n",
       "[5 rows x 52 columns]"
      ]
     },
     "execution_count": 50,
     "metadata": {},
     "output_type": "execute_result"
    }
   ],
   "source": [
    "df.tail()"
   ]
  },
  {
   "cell_type": "code",
   "execution_count": 56,
   "metadata": {},
   "outputs": [
    {
     "data": {
      "text/plain": [
       "count    4490.000000\n",
       "mean        0.394531\n",
       "std         0.180909\n",
       "min         0.031000\n",
       "25%         0.245000\n",
       "50%         0.376000\n",
       "75%         0.524000\n",
       "max         1.000000\n",
       "Name: percentage20_Joe_Biden, dtype: float64"
      ]
     },
     "execution_count": 56,
     "metadata": {},
     "output_type": "execute_result"
    }
   ],
   "source": [
    "df[\"percentage20_Joe_Biden\"].describe()"
   ]
  },
  {
   "cell_type": "code",
   "execution_count": null,
   "metadata": {},
   "outputs": [],
   "source": []
  },
  {
   "cell_type": "code",
   "execution_count": null,
   "metadata": {},
   "outputs": [],
   "source": []
  }
 ],
 "metadata": {
  "kernelspec": {
   "display_name": "Python 3",
   "language": "python",
   "name": "python3"
  },
  "language_info": {
   "codemirror_mode": {
    "name": "ipython",
    "version": 3
   },
   "file_extension": ".py",
   "mimetype": "text/x-python",
   "name": "python",
   "nbconvert_exporter": "python",
   "pygments_lexer": "ipython3",
   "version": "3.8.5"
  }
 },
 "nbformat": 4,
 "nbformat_minor": 4
}
